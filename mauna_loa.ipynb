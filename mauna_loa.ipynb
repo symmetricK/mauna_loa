{
 "cells": [
  {
   "cell_type": "code",
   "execution_count": 4,
   "metadata": {},
   "outputs": [
    {
     "data": {
      "text/plain": [
       "<AxesSubplot:>"
      ]
     },
     "execution_count": 4,
     "metadata": {},
     "output_type": "execute_result"
    },
    {
     "data": {
      "image/png": "[encoded data removed]",
      "text/plain": [
       "<Figure size 432x288 with 1 Axes>"
      ]
     },
     "metadata": {
      "needs_background": "light"
     },
     "output_type": "display_data"
    }
   ],
   "source": [
    "#Here you should call functions in ml.py\n",
    "import pandas as pd\n",
    "filename='mauna_loa.csv'\n",
    "import ml\n",
    "df=ml.get_df(filename)\n",
    "elapsed_yrs=[]\n",
    "for i in range(len(df)):\n",
    "    elapsed_year=int((df['decimal_date'][i])-(df['decimal_date'][0]))\n",
    "    elapsed_yrs.append(elapsed_year)\n",
    "df['decimal_date']=elapsed_yrs\n",
    "years_CO2_counts=df[['decimal_date','C02']].groupby('decimal_date').agg('mean')\n",
    "years_CO2_counts.reset_index(inplace=True)\n",
    "years_CO2_counts.columns=['elapsed_years','CO2']\n",
    "yrs_CO2_avg=pd.DataFrame(years_CO2_counts['CO2'])\n",
    "ml_yrs_co2=ml.plot_df(yrs_CO2_avg)\n",
    "ml_yrs_co2"
   ]
  },
  {
   "cell_type": "code",
   "execution_count": null,
   "metadata": {},
   "outputs": [],
   "source": []
  },
  {
   "cell_type": "code",
   "execution_count": 3,
   "metadata": {},
   "outputs": [
    {
     "data": {
      "text/plain": [
       "<module 'ml' from '/home/horikkei/hw/hw07/mauna_loa/ml.py'>"
      ]
     },
     "execution_count": 3,
     "metadata": {},
     "output_type": "execute_result"
    }
   ],
   "source": [
    "#if you change the content of ml.py, you may need to reload it into Python workspace\n",
    "\n",
    "import importlib\n",
    "importlib.reload(ml)"
   ]
  },
  {
   "cell_type": "code",
   "execution_count": null,
   "metadata": {},
   "outputs": [],
   "source": []
  }
 ],
 "metadata": {
  "kernelspec": {
   "display_name": "Python 3",
   "language": "python",
   "name": "python3"
  },
  "language_info": {
   "codemirror_mode": {
    "name": "ipython",
    "version": 3
   },
   "file_extension": ".py",
   "mimetype": "text/x-python",
   "name": "python",
   "nbconvert_exporter": "python",
   "pygments_lexer": "ipython3",
   "version": "3.7.9"
  }
 },
 "nbformat": 4,
 "nbformat_minor": 4
}
